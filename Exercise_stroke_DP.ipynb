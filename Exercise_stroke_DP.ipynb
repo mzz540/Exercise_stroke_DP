{
 "cells": [
  {
   "cell_type": "markdown",
   "id": "513a87d6",
   "metadata": {},
   "source": [
    "# Exercise: applying differential privacy by means of Python-DP library \n",
    "## Safety, Privacy and Legal Aspects - Master in Data Science (2022/2023)\n",
    "### Name: Miriam Perez Perez"
   ]
  },
  {
   "cell_type": "code",
   "execution_count": 1,
   "id": "2a401568",
   "metadata": {},
   "outputs": [],
   "source": [
    "# Install PyDP\n",
    "#!pip install python-dp"
   ]
  },
  {
   "cell_type": "code",
   "execution_count": 2,
   "id": "4a8536e8",
   "metadata": {},
   "outputs": [],
   "source": [
    "import numpy as np\n",
    "import pandas as pd\n",
    "import matplotlib.pyplot as plt\n",
    "\n",
    "import pydp as dp\n",
    "from pydp.algorithms.laplacian import BoundedSum, Count, BoundedMean, Max, Min\n",
    "\n",
    "# ... other libraries you may need"
   ]
  },
  {
   "cell_type": "markdown",
   "id": "731cc07b",
   "metadata": {},
   "source": [
    "#### Download and read the widely known Stroke Prediction Dataset  https://www.kaggle.com/datasets/fedesoriano/stroke-prediction-dataset. Remove NaN values and answer the following questions:"
   ]
  },
  {
   "cell_type": "code",
   "execution_count": 3,
   "id": "c9f1f458",
   "metadata": {},
   "outputs": [
    {
     "data": {
      "text/html": [
       "<div>\n",
       "<style scoped>\n",
       "    .dataframe tbody tr th:only-of-type {\n",
       "        vertical-align: middle;\n",
       "    }\n",
       "\n",
       "    .dataframe tbody tr th {\n",
       "        vertical-align: top;\n",
       "    }\n",
       "\n",
       "    .dataframe thead th {\n",
       "        text-align: right;\n",
       "    }\n",
       "</style>\n",
       "<table border=\"1\" class=\"dataframe\">\n",
       "  <thead>\n",
       "    <tr style=\"text-align: right;\">\n",
       "      <th></th>\n",
       "      <th>id</th>\n",
       "      <th>gender</th>\n",
       "      <th>age</th>\n",
       "      <th>hypertension</th>\n",
       "      <th>heart_disease</th>\n",
       "      <th>ever_married</th>\n",
       "      <th>work_type</th>\n",
       "      <th>Residence_type</th>\n",
       "      <th>avg_glucose_level</th>\n",
       "      <th>bmi</th>\n",
       "      <th>smoking_status</th>\n",
       "      <th>stroke</th>\n",
       "    </tr>\n",
       "  </thead>\n",
       "  <tbody>\n",
       "    <tr>\n",
       "      <th>0</th>\n",
       "      <td>9046</td>\n",
       "      <td>Male</td>\n",
       "      <td>67.0</td>\n",
       "      <td>0</td>\n",
       "      <td>1</td>\n",
       "      <td>Yes</td>\n",
       "      <td>Private</td>\n",
       "      <td>Urban</td>\n",
       "      <td>228.69</td>\n",
       "      <td>36.6</td>\n",
       "      <td>formerly smoked</td>\n",
       "      <td>1</td>\n",
       "    </tr>\n",
       "    <tr>\n",
       "      <th>2</th>\n",
       "      <td>31112</td>\n",
       "      <td>Male</td>\n",
       "      <td>80.0</td>\n",
       "      <td>0</td>\n",
       "      <td>1</td>\n",
       "      <td>Yes</td>\n",
       "      <td>Private</td>\n",
       "      <td>Rural</td>\n",
       "      <td>105.92</td>\n",
       "      <td>32.5</td>\n",
       "      <td>never smoked</td>\n",
       "      <td>1</td>\n",
       "    </tr>\n",
       "    <tr>\n",
       "      <th>3</th>\n",
       "      <td>60182</td>\n",
       "      <td>Female</td>\n",
       "      <td>49.0</td>\n",
       "      <td>0</td>\n",
       "      <td>0</td>\n",
       "      <td>Yes</td>\n",
       "      <td>Private</td>\n",
       "      <td>Urban</td>\n",
       "      <td>171.23</td>\n",
       "      <td>34.4</td>\n",
       "      <td>smokes</td>\n",
       "      <td>1</td>\n",
       "    </tr>\n",
       "    <tr>\n",
       "      <th>4</th>\n",
       "      <td>1665</td>\n",
       "      <td>Female</td>\n",
       "      <td>79.0</td>\n",
       "      <td>1</td>\n",
       "      <td>0</td>\n",
       "      <td>Yes</td>\n",
       "      <td>Self-employed</td>\n",
       "      <td>Rural</td>\n",
       "      <td>174.12</td>\n",
       "      <td>24.0</td>\n",
       "      <td>never smoked</td>\n",
       "      <td>1</td>\n",
       "    </tr>\n",
       "    <tr>\n",
       "      <th>5</th>\n",
       "      <td>56669</td>\n",
       "      <td>Male</td>\n",
       "      <td>81.0</td>\n",
       "      <td>0</td>\n",
       "      <td>0</td>\n",
       "      <td>Yes</td>\n",
       "      <td>Private</td>\n",
       "      <td>Urban</td>\n",
       "      <td>186.21</td>\n",
       "      <td>29.0</td>\n",
       "      <td>formerly smoked</td>\n",
       "      <td>1</td>\n",
       "    </tr>\n",
       "    <tr>\n",
       "      <th>...</th>\n",
       "      <td>...</td>\n",
       "      <td>...</td>\n",
       "      <td>...</td>\n",
       "      <td>...</td>\n",
       "      <td>...</td>\n",
       "      <td>...</td>\n",
       "      <td>...</td>\n",
       "      <td>...</td>\n",
       "      <td>...</td>\n",
       "      <td>...</td>\n",
       "      <td>...</td>\n",
       "      <td>...</td>\n",
       "    </tr>\n",
       "    <tr>\n",
       "      <th>5104</th>\n",
       "      <td>14180</td>\n",
       "      <td>Female</td>\n",
       "      <td>13.0</td>\n",
       "      <td>0</td>\n",
       "      <td>0</td>\n",
       "      <td>No</td>\n",
       "      <td>children</td>\n",
       "      <td>Rural</td>\n",
       "      <td>103.08</td>\n",
       "      <td>18.6</td>\n",
       "      <td>Unknown</td>\n",
       "      <td>0</td>\n",
       "    </tr>\n",
       "    <tr>\n",
       "      <th>5106</th>\n",
       "      <td>44873</td>\n",
       "      <td>Female</td>\n",
       "      <td>81.0</td>\n",
       "      <td>0</td>\n",
       "      <td>0</td>\n",
       "      <td>Yes</td>\n",
       "      <td>Self-employed</td>\n",
       "      <td>Urban</td>\n",
       "      <td>125.20</td>\n",
       "      <td>40.0</td>\n",
       "      <td>never smoked</td>\n",
       "      <td>0</td>\n",
       "    </tr>\n",
       "    <tr>\n",
       "      <th>5107</th>\n",
       "      <td>19723</td>\n",
       "      <td>Female</td>\n",
       "      <td>35.0</td>\n",
       "      <td>0</td>\n",
       "      <td>0</td>\n",
       "      <td>Yes</td>\n",
       "      <td>Self-employed</td>\n",
       "      <td>Rural</td>\n",
       "      <td>82.99</td>\n",
       "      <td>30.6</td>\n",
       "      <td>never smoked</td>\n",
       "      <td>0</td>\n",
       "    </tr>\n",
       "    <tr>\n",
       "      <th>5108</th>\n",
       "      <td>37544</td>\n",
       "      <td>Male</td>\n",
       "      <td>51.0</td>\n",
       "      <td>0</td>\n",
       "      <td>0</td>\n",
       "      <td>Yes</td>\n",
       "      <td>Private</td>\n",
       "      <td>Rural</td>\n",
       "      <td>166.29</td>\n",
       "      <td>25.6</td>\n",
       "      <td>formerly smoked</td>\n",
       "      <td>0</td>\n",
       "    </tr>\n",
       "    <tr>\n",
       "      <th>5109</th>\n",
       "      <td>44679</td>\n",
       "      <td>Female</td>\n",
       "      <td>44.0</td>\n",
       "      <td>0</td>\n",
       "      <td>0</td>\n",
       "      <td>Yes</td>\n",
       "      <td>Govt_job</td>\n",
       "      <td>Urban</td>\n",
       "      <td>85.28</td>\n",
       "      <td>26.2</td>\n",
       "      <td>Unknown</td>\n",
       "      <td>0</td>\n",
       "    </tr>\n",
       "  </tbody>\n",
       "</table>\n",
       "<p>4909 rows × 12 columns</p>\n",
       "</div>"
      ],
      "text/plain": [
       "         id  gender   age  hypertension  heart_disease ever_married  \\\n",
       "0      9046    Male  67.0             0              1          Yes   \n",
       "2     31112    Male  80.0             0              1          Yes   \n",
       "3     60182  Female  49.0             0              0          Yes   \n",
       "4      1665  Female  79.0             1              0          Yes   \n",
       "5     56669    Male  81.0             0              0          Yes   \n",
       "...     ...     ...   ...           ...            ...          ...   \n",
       "5104  14180  Female  13.0             0              0           No   \n",
       "5106  44873  Female  81.0             0              0          Yes   \n",
       "5107  19723  Female  35.0             0              0          Yes   \n",
       "5108  37544    Male  51.0             0              0          Yes   \n",
       "5109  44679  Female  44.0             0              0          Yes   \n",
       "\n",
       "          work_type Residence_type  avg_glucose_level   bmi   smoking_status  \\\n",
       "0           Private          Urban             228.69  36.6  formerly smoked   \n",
       "2           Private          Rural             105.92  32.5     never smoked   \n",
       "3           Private          Urban             171.23  34.4           smokes   \n",
       "4     Self-employed          Rural             174.12  24.0     never smoked   \n",
       "5           Private          Urban             186.21  29.0  formerly smoked   \n",
       "...             ...            ...                ...   ...              ...   \n",
       "5104       children          Rural             103.08  18.6          Unknown   \n",
       "5106  Self-employed          Urban             125.20  40.0     never smoked   \n",
       "5107  Self-employed          Rural              82.99  30.6     never smoked   \n",
       "5108        Private          Rural             166.29  25.6  formerly smoked   \n",
       "5109       Govt_job          Urban              85.28  26.2          Unknown   \n",
       "\n",
       "      stroke  \n",
       "0          1  \n",
       "2          1  \n",
       "3          1  \n",
       "4          1  \n",
       "5          1  \n",
       "...      ...  \n",
       "5104       0  \n",
       "5106       0  \n",
       "5107       0  \n",
       "5108       0  \n",
       "5109       0  \n",
       "\n",
       "[4909 rows x 12 columns]"
      ]
     },
     "execution_count": 3,
     "metadata": {},
     "output_type": "execute_result"
    }
   ],
   "source": [
    "data = pd.read_csv(\"healthcare-dataset-stroke-data.csv\")\n",
    "data = data.dropna()\n",
    "data"
   ]
  },
  {
   "cell_type": "markdown",
   "id": "30aaa947",
   "metadata": {},
   "source": [
    "#### 1. Calculate using differential privacy (DP) for an epsilon value of your choice, how many women have suffered a stroke. And considering women aged 60 years and older? Repeat the same for men.\n",
    "\n",
    "#### In both cases, compare the results with those obtained if DP is not applied."
   ]
  },
  {
   "cell_type": "code",
   "execution_count": 4,
   "id": "98bc3552-8768-411b-93f2-02a2b49c21ee",
   "metadata": {},
   "outputs": [
    {
     "name": "stdout",
     "output_type": "stream",
     "text": [
      "Total number of strokes for women: 120\n",
      "Total number of strokes for women with DP (epsilon=0.8): 120\n"
     ]
    }
   ],
   "source": [
    "#### ejemplo clase\n",
    "epsilon = 0.8\n",
    "df_women = data[data.gender == 'Female']\n",
    "women_stroke = sum(df_women.stroke.values)\n",
    "x = BoundedSum(epsilon, lower_bound=0, upper_bound=1)\n",
    "women_stroke_dp = x.quick_result(df_women.stroke.values)\n",
    "\n",
    "print(\"Total number of strokes for women:\", women_stroke)\n",
    "print(\"Total number of strokes for women with DP (epsilon={}):\".format(epsilon), women_stroke_dp)\n",
    "######"
   ]
  },
  {
   "cell_type": "code",
   "execution_count": 5,
   "id": "fee68315",
   "metadata": {},
   "outputs": [
    {
     "name": "stdout",
     "output_type": "stream",
     "text": [
      "Total number of women who have suffered a stroke: 120\n",
      "Total number of women who have suffered a stroke with DP (epsilon=0.14): 110\n",
      "Total number of men who have suffered a stroke: 89\n",
      "Total number of men who have suffered a stroke with DP (epsilon=0.14): 87\n",
      "Number of strokes in women aged 60 years and older without DP: 84\n",
      "Number of strokes in women aged 60 years and older with DP (epsilon=0.14): 84\n",
      "Number of strokes in men aged 60 years and older without DP: 66\n",
      "Number of strokes in men aged 60 years and older with DP (epsilon=0.14): 66\n"
     ]
    }
   ],
   "source": [
    "epsilon = 0.14 \n",
    "x = Count(epsilon=epsilon)\n",
    "\n",
    "women_stroke = len(data[(data['gender'] == 'Female') & (data['stroke'] == 1)])\n",
    "women_stroke_dp = x.quick_result([1] * data[(data['gender'] == 'Female') & (data['stroke'] == 1)].shape[0])\n",
    "\n",
    "men_stroke = len(data[(data['gender'] == 'Male') & (data['stroke'] == 1)])\n",
    "men_stroke_dp = x.quick_result([1] * data[(data['gender'] == 'Male') & (data['stroke'] == 1)].shape[0])\n",
    "\n",
    "print(\"Total number of women who have suffered a stroke:\", women_stroke)\n",
    "print(\"Total number of women who have suffered a stroke with DP (epsilon={}):\".format(epsilon), women_stroke_dp)\n",
    "print(\"Total number of men who have suffered a stroke:\", men_stroke)\n",
    "print(\"Total number of men who have suffered a stroke with DP (epsilon={}):\".format(epsilon), men_stroke_dp)\n",
    "\n",
    "\n",
    "women60_stroke = len(data[(data['gender'] == 'Female') & (data['age'] >= 60) & (data['stroke'] == 1)])\n",
    "women60_stroke_count_dp = x.quick_result([1] * data[(data['gender'] == 'Female') & (data['age'] >= 60) & (data['stroke'] == 1)].shape[0])\n",
    "\n",
    "men60_stroke = len(data[(data['gender'] == 'Male') & (data['age'] >= 60) & (data['stroke'] == 1)])\n",
    "men60_stroke_count_dp = x.quick_result([1] * data[(data['gender'] == 'Male') & (data['age'] >= 60) & (data['stroke'] == 1)].shape[0])\n",
    "\n",
    "# Print results\n",
    "print(\"Number of strokes in women aged 60 years and older without DP:\", women60_stroke)\n",
    "print(\"Number of strokes in women aged 60 years and older with DP (epsilon={}):\".format(epsilon), women60_stroke_count_dp)\n",
    "print(\"Number of strokes in men aged 60 years and older without DP:\", men60_stroke)\n",
    "print(\"Number of strokes in men aged 60 years and older with DP (epsilon={}):\".format(epsilon), men60_stroke_count_dp)\n"
   ]
  },
  {
   "cell_type": "markdown",
   "id": "efbf138c",
   "metadata": {},
   "source": [
    "#### 2. For all women who have suffered a stroke, calculate the mean BMI applying PD for a certain epsilon value.  Repeat the same for those who have not suffered a stroke. \n",
    "\n",
    "#### Compare the results with those obtained if DP is not applied."
   ]
  },
  {
   "cell_type": "code",
   "execution_count": 6,
   "id": "4892497c",
   "metadata": {},
   "outputs": [
    {
     "name": "stdout",
     "output_type": "stream",
     "text": [
      "Mean BMI for women who have suffered a stroke: 30.21833333333333\n",
      "Mean BMI for women who have not suffered a stroke: 29.015952466690674\n",
      "Mean BMI for women who have suffered a stroke with DP (epsilon=0.14): 38.48278378427607\n",
      "Mean BMI for women who have not suffered a stroke with DP (epsilon=0.14): 29.745242201154145\n"
     ]
    }
   ],
   "source": [
    "epsilon = 0.14  \n",
    "\n",
    "women_stroke = data[(data['gender'] == 'Female') & (data['stroke'] == 1)]\n",
    "women_no_stroke = data[(data['gender'] == 'Female') & (data['stroke'] == 0)]\n",
    "\n",
    "# Calculate mean BMI for women who have suffered a stroke without DP\n",
    "mean_bmi_women_stroke = women_stroke['bmi'].mean()\n",
    "mean_bmi_women_no_stroke = women_no_stroke['bmi'].mean()\n",
    "\n",
    "# Filter data for women who have suffered a stroke and those who haven't\n",
    "women_stroke_data = data[(data['gender'] == 'Female') & (data['stroke'] == 1)]\n",
    "women_no_stroke_data = data[(data['gender'] == 'Female') & (data['stroke'] == 0)]\n",
    "\n",
    "# Calculate mean BMI for women who have or not suffered a stroke with DP\n",
    "dp_mean_bmi_stroke = BoundedMean(lower_bound=0, upper_bound=100, epsilon=epsilon, dtype=\"float\")\n",
    "mean_bmi_stroke_with_dp = dp_mean_bmi_stroke.quick_result(women_stroke_data['bmi'].tolist())\n",
    "\n",
    "# Calculate mean BMI for women who have not suffered a stroke with DP\n",
    "dp_mean_bmi_no_stroke = BoundedMean(lower_bound=0, upper_bound=100, epsilon=epsilon, dtype=\"float\")\n",
    "mean_bmi_no_stroke_with_dp = dp_mean_bmi_no_stroke.quick_result(women_no_stroke_data['bmi'].tolist())\n",
    "\n",
    "print(\"Mean BMI for women who have suffered a stroke:\", mean_bmi_women_stroke)\n",
    "print(\"Mean BMI for women who have not suffered a stroke:\", mean_bmi_women_no_stroke)\n",
    "print(\"Mean BMI for women who have suffered a stroke with DP (epsilon={}):\".format(epsilon), mean_bmi_stroke_with_dp)\n",
    "print(\"Mean BMI for women who have not suffered a stroke with DP (epsilon={}):\".format(epsilon), mean_bmi_no_stroke_with_dp)\n"
   ]
  },
  {
   "cell_type": "markdown",
   "id": "b804749f",
   "metadata": {},
   "source": [
    "#### 3. For all the people who have suffered a stroke, calculate (by applying PD) how many of them suffered from hypertension.  Repeat the same for those who have not suffered a stroke. \n",
    "\n",
    "#### Compare the results with those obtained if DP is not applied."
   ]
  },
  {
   "cell_type": "code",
   "execution_count": 7,
   "id": "73b36a7c-e436-46b4-8eb0-1863831a1bc2",
   "metadata": {},
   "outputs": [
    {
     "name": "stdout",
     "output_type": "stream",
     "text": [
      "Number of individuals who suffered a stroke among those with hypertension: 60\n",
      "Number of individuals who suffered a stroke among those with hypertension (Applying DP): 56\n",
      "Number of individuals with hypertension but without stroke: 391\n",
      "Number of individuals with hypertension but without stroke (Applying DP): 399\n"
     ]
    }
   ],
   "source": [
    "hypertension = data[data.hypertension == 1]\n",
    "stroke_hypertension = sum(hypertension.stroke.values)\n",
    "\n",
    "no_stroke = data[data.stroke == 0]\n",
    "no_stroke_hypertension = sum(no_stroke.hypertension.values)\n",
    "\n",
    "epsilon = 0.14\n",
    "x = BoundedSum(epsilon, lower_bound=0, upper_bound=1)\n",
    "stroke_hypertension_dp = x.quick_result(hypertension.stroke.values)\n",
    "no_stroke_hypertension_dp = x.quick_result(no_stroke.hypertension.values)\n",
    "\n",
    "# Print the results\n",
    "print(\"Number of individuals who suffered a stroke among those with hypertension:\", stroke_hypertension)\n",
    "print(\"Number of individuals who suffered a stroke among those with hypertension (Applying DP):\", stroke_hypertension_dp)\n",
    "\n",
    "print(\"Number of individuals with hypertension but without stroke:\", no_stroke_hypertension)\n",
    "print(\"Number of individuals with hypertension but without stroke (Applying DP):\", no_stroke_hypertension_dp)\n"
   ]
  },
  {
   "cell_type": "markdown",
   "id": "c24e4268",
   "metadata": {},
   "source": [
    "#### 4. Calculate the avgerage glucose level of all the people who have suffered a stroke. Compare this result graphically with that obtained by applying DP as a function of the epsilon value introduced (e.g., you can test what happens even with epsilon values higher than 1, epsilon = [0.1, 0.2, 0.3,...,10]). \n",
    "\n",
    "#### What property of differential privacy and the privacy budget (epsilon) do you see reflected in this case?"
   ]
  },
  {
   "cell_type": "code",
   "execution_count": 8,
   "id": "e81173c7",
   "metadata": {},
   "outputs": [
    {
     "data": {
      "image/png": "[encoded data removed]",
      "text/plain": [
       "<Figure size 640x480 with 1 Axes>"
      ]
     },
     "metadata": {},
     "output_type": "display_data"
    }
   ],
   "source": [
    "stroke = data[data['stroke'] == 1]\n",
    "stroke_average_glucose = stroke['avg_glucose_level'].mean()\n",
    "\n",
    "epsilon_values = np.linspace(0.1, 10)\n",
    "\n",
    "average_glucose_dp = []\n",
    "for epsilon in epsilon_values:\n",
    "    dp_mean_glucose = BoundedMean(lower_bound=0, upper_bound=300, epsilon=epsilon, dtype=\"float\")  \n",
    "    average_glucose_with_dp = dp_mean_glucose.quick_result(stroke['avg_glucose_level'].tolist())\n",
    "    average_glucose_dp.append(average_glucose_with_dp)\n",
    "\n",
    "plt.plot(epsilon_values, average_glucose_dp, label='With DP')\n",
    "plt.axhline(y=stroke_average_glucose, color='r', linestyle='--', label='Without DP')\n",
    "plt.xlabel('Epsilon')\n",
    "plt.ylabel('Average Glucose Level')\n",
    "plt.title('Average Glucose Level of Stroke Patients with and without Differential Privacy')\n",
    "plt.legend()\n",
    "plt.grid(True)\n",
    "plt.show()\n"
   ]
  },
  {
   "cell_type": "markdown",
   "id": "161c9f43-086a-4759-899a-6d0f5165e394",
   "metadata": {},
   "source": [
    "A medida que los valores de epsilon aumentan, el nivel de privacidad disminuye. Esto se debe a que un epsilon alto permite añadir mas ruido a los datos, lo que reduce los riesgos de violaciones de privacidad.\n",
    "\n",
    "Este trade-off muestra el principio fundamental de la privacidad diferencial, la privacidad de los individuos se protege a costa de cierta pérdida en la precisión de los datos, y el presupuesto de privacidad (epsilon) controla el equilibrio entre la privacidad y la utilidad de los datos.\n"
   ]
  },
  {
   "cell_type": "markdown",
   "id": "03703457",
   "metadata": {},
   "source": [
    "#### 5. Compare by means of bar charts the total number of people who have suffered a stroke according to the age range grouped in intervals of 20 years. Compare in each case the result obtained without applying differential privacy and the one obtained by applying DP for a pre-fixed epsilon value."
   ]
  },
  {
   "cell_type": "code",
   "execution_count": 9,
   "id": "1228e157-18bf-400d-8332-39e1fb001258",
   "metadata": {},
   "outputs": [
    {
     "data": {
      "image/png": "[encoded data removed]",
      "text/plain": [
       "<Figure size 640x480 with 1 Axes>"
      ]
     },
     "metadata": {},
     "output_type": "display_data"
    }
   ],
   "source": [
    "# Convert age_ranges to integers\n",
    "age_intervals = np.arange(0, 101, 20).astype(int)\n",
    "\n",
    "# Initialize lists to store counts without and with DP\n",
    "counts_no_dp = []\n",
    "counts_with_dp = []\n",
    "\n",
    "# Calculate counts without applying DP\n",
    "for i in range(len(age_intervals)-1):\n",
    "    count = len(data[(data['age'] >= age_intervals[i]) & (data['age'] < age_intervals[i+1]) & (data['stroke'] == 1)])\n",
    "    counts_no_dp.append(count)\n",
    "\n",
    "epsilon = 0.14\n",
    "\n",
    "# Calculate counts with applying DP (using a pre-fixed epsilon value)\n",
    "for i in range(len(age_intervals)-1):\n",
    "    df_age_range = data[(data['age'] >= age_intervals[i]) & (data['age'] < age_intervals[i+1])]\n",
    "    x = BoundedSum(epsilon, lower_bound=0, upper_bound=1)  \n",
    "    count_dp = x.quick_result(df_age_range['stroke'].values.tolist())\n",
    "    \n",
    "    # Ensure that the count is not below 0\n",
    "    count_dp = max(count_dp, 0)\n",
    "    \n",
    "    counts_with_dp.append(count_dp)\n",
    "\n",
    "# Plot bar charts\n",
    "age_range_labels = [f\"{interval}-{interval+19}\" for interval in age_intervals[:-1]]\n",
    "\n",
    "x = np.arange(len(age_range_labels))\n",
    "width = 0.4\n",
    "\n",
    "fig, ax = plt.subplots()\n",
    "bars1 = ax.bar(x - width/2, counts_no_dp, width, label='Without DP')\n",
    "bars2 = ax.bar(x + width/2, counts_with_dp, width, label='With DP (epsilon={})'.format(epsilon))\n",
    "\n",
    "ax.set_xlabel('Age Range')\n",
    "ax.set_ylabel('Number of Stroke Patients')\n",
    "ax.set_title('Number of Stroke Patients by Age Range')\n",
    "ax.set_xticks(x)\n",
    "ax.set_xticklabels(age_range_labels)\n",
    "ax.legend()\n",
    "\n",
    "plt.xticks(rotation=45)\n",
    "plt.tight_layout()\n",
    "plt.show()\n"
   ]
  }
 ],
 "metadata": {
  "kernelspec": {
   "display_name": "Python 3 (ipykernel)",
   "language": "python",
   "name": "python3"
  },
  "language_info": {
   "codemirror_mode": {
    "name": "ipython",
    "version": 3
   },
   "file_extension": ".py",
   "mimetype": "text/x-python",
   "name": "python",
   "nbconvert_exporter": "python",
   "pygments_lexer": "ipython3",
   "version": "3.8.18"
  }
 },
 "nbformat": 4,
 "nbformat_minor": 5
}
